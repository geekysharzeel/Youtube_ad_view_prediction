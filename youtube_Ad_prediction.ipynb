{
  "nbformat": 4,
  "nbformat_minor": 0,
  "metadata": {
    "colab": {
      "name": "Copy of internship_studio_youtube_Ad_prediction.ipynb",
      "provenance": [],
      "collapsed_sections": [],
      "authorship_tag": "ABX9TyPOuP3FEgKwc/VRq3WivLVg",
      "include_colab_link": true
    },
    "kernelspec": {
      "name": "python3",
      "display_name": "Python 3"
    },
    "accelerator": "GPU"
  },
  "cells": [
    {
      "cell_type": "markdown",
      "metadata": {
        "id": "view-in-github",
        "colab_type": "text"
      },
      "source": [
        "<a href=\"https://colab.research.google.com/github/geekysharzeel/Youtube_ad_view_prediction/blob/main/youtube_Ad_prediction.ipynb\" target=\"_parent\"><img src=\"https://colab.research.google.com/assets/colab-badge.svg\" alt=\"Open In Colab\"/></a>"
      ]
    },
    {
      "cell_type": "code",
      "metadata": {
        "id": "BknDyFS4qtT9",
        "colab": {
          "base_uri": "https://localhost:8080/"
        },
        "outputId": "c78f4273-1045-47a8-d2e4-630bca68493d"
      },
      "source": [
        "import numpy as np\n",
        "import pandas as pd\n",
        "import matplotlib.cm as cm\n",
        "import matplotlib.pyplot as plt\n",
        "import tensorflow as tf\n",
        "# Importing data\n",
        "#path = \"\" # Put path of your folder of your data if it's not in the same folder\n",
        "data_train = pd.read_csv(\"train.csv\")\n",
        "data_train.head()\n",
        "data_train.shape\n",
        "#data=data_train\n",
        "# (14999, 9)"
      ],
      "execution_count": null,
      "outputs": [
        {
          "output_type": "execute_result",
          "data": {
            "text/plain": [
              "(14999, 9)"
            ]
          },
          "metadata": {
            "tags": []
          },
          "execution_count": 35
        }
      ]
    },
    {
      "cell_type": "code",
      "metadata": {
        "id": "hYWklPNcTYXC",
        "colab": {
          "base_uri": "https://localhost:8080/",
          "height": 195
        },
        "outputId": "c3eea660-0fae-4972-d1e0-86cea99a2f67"
      },
      "source": [
        "# Removing character \"F\" present in data\n",
        "data_train=data_train[data_train.views!='F']\n",
        "data_train=data_train[data_train.likes!='F']\n",
        "data_train=data_train[data_train.dislikes!='F']\n",
        "data_train=data_train[data_train.comment!='F']\n",
        "data_train.head()\n",
        "# Assigning each category a number for Category feature\n",
        "category={'A': 1,'B':2,'C':3,'D':4,'E':5,'F':6,'G':7,'H':8}\n",
        "data_train[\"category\"]=data_train[\"category\"].map(category)\n",
        "data_train.head()\n",
        "# Convert values to integers for views, likes, comments, dislikes and adview\n",
        "data_train[\"views\"] = pd.to_numeric(data_train[\"views\"])\n",
        "data_train[\"comment\"] = pd.to_numeric(data_train[\"comment\"])\n",
        "data_train[\"likes\"] = pd.to_numeric(data_train[\"likes\"])\n",
        "data_train[\"dislikes\"] = pd.to_numeric(data_train[\"dislikes\"])\n",
        "data_train[\"adview\"]=pd.to_numeric(data_train[\"adview\"])\n",
        "column_vidid=data_train['vidid']\n",
        "# Endoding features like Category, Duration, Vidid\n",
        "from sklearn.preprocessing import LabelEncoder\n",
        "data_train['duration']=LabelEncoder().fit_transform(data_train['duration'])\n",
        "data_train['vidid']=LabelEncoder().fit_transform(data_train['vidid'])\n",
        "data_train['published']=LabelEncoder().fit_transform(data_train['published'])\n",
        "data_train.head()"
      ],
      "execution_count": null,
      "outputs": [
        {
          "output_type": "execute_result",
          "data": {
            "text/html": [
              "<div>\n",
              "<style scoped>\n",
              "    .dataframe tbody tr th:only-of-type {\n",
              "        vertical-align: middle;\n",
              "    }\n",
              "\n",
              "    .dataframe tbody tr th {\n",
              "        vertical-align: top;\n",
              "    }\n",
              "\n",
              "    .dataframe thead th {\n",
              "        text-align: right;\n",
              "    }\n",
              "</style>\n",
              "<table border=\"1\" class=\"dataframe\">\n",
              "  <thead>\n",
              "    <tr style=\"text-align: right;\">\n",
              "      <th></th>\n",
              "      <th>vidid</th>\n",
              "      <th>adview</th>\n",
              "      <th>views</th>\n",
              "      <th>likes</th>\n",
              "      <th>dislikes</th>\n",
              "      <th>comment</th>\n",
              "      <th>published</th>\n",
              "      <th>duration</th>\n",
              "      <th>category</th>\n",
              "    </tr>\n",
              "  </thead>\n",
              "  <tbody>\n",
              "    <tr>\n",
              "      <th>0</th>\n",
              "      <td>5912</td>\n",
              "      <td>40</td>\n",
              "      <td>1031602</td>\n",
              "      <td>8523</td>\n",
              "      <td>363</td>\n",
              "      <td>1095</td>\n",
              "      <td>2168</td>\n",
              "      <td>2925</td>\n",
              "      <td>6</td>\n",
              "    </tr>\n",
              "    <tr>\n",
              "      <th>1</th>\n",
              "      <td>2741</td>\n",
              "      <td>2</td>\n",
              "      <td>1707</td>\n",
              "      <td>56</td>\n",
              "      <td>2</td>\n",
              "      <td>6</td>\n",
              "      <td>2185</td>\n",
              "      <td>3040</td>\n",
              "      <td>4</td>\n",
              "    </tr>\n",
              "    <tr>\n",
              "      <th>2</th>\n",
              "      <td>8138</td>\n",
              "      <td>1</td>\n",
              "      <td>2023</td>\n",
              "      <td>25</td>\n",
              "      <td>0</td>\n",
              "      <td>2</td>\n",
              "      <td>2094</td>\n",
              "      <td>1863</td>\n",
              "      <td>3</td>\n",
              "    </tr>\n",
              "    <tr>\n",
              "      <th>3</th>\n",
              "      <td>9005</td>\n",
              "      <td>6</td>\n",
              "      <td>620860</td>\n",
              "      <td>777</td>\n",
              "      <td>161</td>\n",
              "      <td>153</td>\n",
              "      <td>2119</td>\n",
              "      <td>2546</td>\n",
              "      <td>8</td>\n",
              "    </tr>\n",
              "    <tr>\n",
              "      <th>4</th>\n",
              "      <td>122</td>\n",
              "      <td>1</td>\n",
              "      <td>666</td>\n",
              "      <td>1</td>\n",
              "      <td>0</td>\n",
              "      <td>0</td>\n",
              "      <td>2091</td>\n",
              "      <td>1963</td>\n",
              "      <td>4</td>\n",
              "    </tr>\n",
              "  </tbody>\n",
              "</table>\n",
              "</div>"
            ],
            "text/plain": [
              "   vidid  adview    views  likes  ...  comment  published  duration  category\n",
              "0   5912      40  1031602   8523  ...     1095       2168      2925         6\n",
              "1   2741       2     1707     56  ...        6       2185      3040         4\n",
              "2   8138       1     2023     25  ...        2       2094      1863         3\n",
              "3   9005       6   620860    777  ...      153       2119      2546         8\n",
              "4    122       1      666      1  ...        0       2091      1963         4\n",
              "\n",
              "[5 rows x 9 columns]"
            ]
          },
          "metadata": {
            "tags": []
          },
          "execution_count": 37
        }
      ]
    },
    {
      "cell_type": "code",
      "metadata": {
        "id": "Yt3rzv-SrTuL",
        "colab": {
          "base_uri": "https://localhost:8080/",
          "height": 994
        },
        "outputId": "15fab2a2-b2af-400a-d710-8eb91d5e356a"
      },
      "source": [
        "# Visualization\n",
        "# Individual Plots\n",
        "plt.hist(data[\"category\"])\n",
        "plt.show()\n",
        "plt.plot(data[\"adview\"])\n",
        "plt.show()\n",
        "import seaborn as sns\n",
        "f, ax = plt.subplots(figsize=(10, 8))\n",
        "corr = data.corr()\n",
        "sns.heatmap(corr, mask=np.zeros_like(corr, dtype=np.bool), cmap=sns.diverging_palette(220, 10, as_cmap=True),\n",
        "square=True, ax=ax,annot=True)\n",
        "plt.show()\n"
      ],
      "execution_count": null,
      "outputs": [
        {
          "output_type": "display_data",
          "data": {
            "image/png": "[encoded data removed]",
            "text/plain": [
              "<Figure size 432x288 with 1 Axes>"
            ]
          },
          "metadata": {
            "tags": [],
            "needs_background": "light"
          }
        },
        {
          "output_type": "display_data",
          "data": {
            "image/png": "[encoded data removed]",
            "text/plain": [
              "<Figure size 432x288 with 1 Axes>"
            ]
          },
          "metadata": {
            "tags": [],
            "needs_background": "light"
          }
        },
        {
          "output_type": "display_data",
          "data": {
            "image/png": "[encoded data removed]",
            "text/plain": [
              "<Figure size 720x576 with 2 Axes>"
            ]
          },
          "metadata": {
            "tags": [],
            "needs_background": "light"
          }
        }
      ]
    },
    {
      "cell_type": "code",
      "metadata": {
        "id": "INi9tL4irT0U"
      },
      "source": [
        "\n",
        "# Convert Time_in_sec for duration\n",
        "import datetime\n",
        "import time\n",
        "\n",
        "\n",
        "def checki(x):\n",
        "  y = x[2:]\n",
        "  h = ''\n",
        "  m = ''\n",
        "  s = ''\n",
        "  mm = ''\n",
        "  P = ['H','M','S']\n",
        "  for i in y:\n",
        "    if i not in P:\n",
        "      mm+=i\n",
        "    else:\n",
        "      if(i==\"H\"):\n",
        "        h = mm\n",
        "        mm = ''\n",
        "      elif(i == \"M\"):\n",
        "        m = mm\n",
        "        mm = ''\n",
        "      else:\n",
        "        s = mm\n",
        "        mm = ''\n",
        "  if(h==''):\n",
        "    h = '00'\n",
        "  if(m == ''):\n",
        "    m = '00'\n",
        "  if(s==''):\n",
        "    s='00'\n",
        "  bp = h+':'+m+':'+s\n",
        "  return bp\n",
        "  train=pd.read_csv(\"train.csv\")\n",
        "  mp = pd.read_csv(path + \"train.csv\")[\"duration\"]\n",
        "  time = mp.apply(checki)\n",
        "  \n",
        "  def func_sec(time_string):\n",
        "    h, m, s = time_string.split(':')\n",
        "    return int(h) * 3600 + int(m) * 60 + int(s)\n",
        "\n",
        "  time1=time.apply(func_sec)\n",
        "\n",
        "  data_train[\"duration\"]=time1\n",
        "  data_train.head()"
      ],
      "execution_count": null,
      "outputs": []
    },
    {
      "cell_type": "code",
      "metadata": {
        "id": "fETRA3WWtpSo",
        "colab": {
          "base_uri": "https://localhost:8080/"
        },
        "outputId": "cee2643e-8378-4c4a-e79a-fd22ae4e6e82"
      },
      "source": [
        "# Split Data\n",
        "Y_train = pd.DataFrame(data = data_train.iloc[:, 1].values, columns = ['target'])\n",
        "data_train=data_train.drop([\"adview\"],axis=1)\n",
        "data_train=data_train.drop([\"vidid\"],axis=1)\n",
        "data_train.head()\n",
        "from sklearn.model_selection import train_test_split\n",
        "X_train, X_test, y_train, y_test = train_test_split(data_train, Y_train, test_size=0.2, random_state=42)\n",
        "X_train.shape\n",
        "# Normalise Data\n",
        "from sklearn.preprocessing import MinMaxScaler\n",
        "scaler = MinMaxScaler()\n",
        "X_train=scaler.fit_transform(X_train)\n",
        "X_test=scaler.fit_transform(X_test)\n",
        "X_train.mean()"
      ],
      "execution_count": null,
      "outputs": [
        {
          "output_type": "execute_result",
          "data": {
            "text/plain": [
              "0.25583174881891707"
            ]
          },
          "metadata": {
            "tags": []
          },
          "execution_count": 40
        }
      ]
    },
    {
      "cell_type": "code",
      "metadata": {
        "id": "AeoysUzet-mg",
        "colab": {
          "base_uri": "https://localhost:8080/"
        },
        "outputId": "ecabe7a2-3bc6-40f7-9c71-f8486bb36804"
      },
      "source": [
        "# Evaluation Metrics\n",
        "from sklearn import metrics\n",
        "def print_error(X_test, y_test, model_name):\n",
        "  prediction = model_name.predict(X_test)\n",
        "  print('Mean Absolute Error:', metrics.mean_absolute_error(y_test, prediction))\n",
        "  print('Mean Squared Error:', metrics.mean_squared_error(y_test, prediction))\n",
        "  print('Root Mean Squared Error:', np.sqrt(metrics.mean_squared_error(y_test, prediction)))\n",
        "# Linear Regression\n",
        "from sklearn import linear_model\n",
        "linear_regression = linear_model.LinearRegression()\n",
        "linear_regression.fit(X_train, y_train)\n",
        "print_error(X_test,y_test, linear_regression)\n",
        "# Support Vector Regressor\n",
        "from sklearn.svm import SVR\n",
        "supportvector_regressor = SVR()\n",
        "supportvector_regressor.fit(X_train,y_train)\n",
        "print_error(X_test,y_test, linear_regression)"
      ],
      "execution_count": null,
      "outputs": [
        {
          "output_type": "stream",
          "text": [
            "Mean Absolute Error: 5288.146964612727\n",
            "Mean Squared Error: 10881576714.292877\n",
            "Root Mean Squared Error: 104314.7962385628\n"
          ],
          "name": "stdout"
        },
        {
          "output_type": "stream",
          "text": [
            "/usr/local/lib/python3.6/dist-packages/sklearn/utils/validation.py:760: DataConversionWarning: A column-vector y was passed when a 1d array was expected. Please change the shape of y to (n_samples, ), for example using ravel().\n",
            "  y = column_or_1d(y, warn=True)\n"
          ],
          "name": "stderr"
        },
        {
          "output_type": "stream",
          "text": [
            "Mean Absolute Error: 5288.146964612727\n",
            "Mean Squared Error: 10881576714.292877\n",
            "Root Mean Squared Error: 104314.7962385628\n"
          ],
          "name": "stdout"
        }
      ]
    },
    {
      "cell_type": "markdown",
      "metadata": {
        "id": "Uf_1B9DjuXkv"
      },
      "source": [
        "using decision tree"
      ]
    },
    {
      "cell_type": "code",
      "metadata": {
        "id": "Y2gnbtBKuRdR",
        "colab": {
          "base_uri": "https://localhost:8080/"
        },
        "outputId": "ca84750f-f445-472c-af41-ac22030d556a"
      },
      "source": [
        "# Decision Tree Regressor\n",
        "from sklearn.tree import DecisionTreeRegressor\n",
        "decision_tree = DecisionTreeRegressor()\n",
        "decision_tree.fit(X_train, y_train)\n",
        "print_error(X_test,y_test, decision_tree)\n",
        "# Random Forest Regressor\n",
        "from sklearn.ensemble import RandomForestRegressor\n",
        "n_estimators = 200\n",
        "max_depth = 25\n",
        "min_samples_split=15\n",
        "min_samples_leaf=2\n",
        "random_forest = RandomForestRegressor(n_estimators = n_estimators, max_depth = max_depth\n",
        "                                      , min_samples_split=min_samples_split,min_samples_leaf=min_samples_leaf)\n",
        "random_forest.fit(X_train,y_train)\n",
        "print_error(X_test,y_test, random_forest)"
      ],
      "execution_count": null,
      "outputs": [
        {
          "output_type": "stream",
          "text": [
            "Mean Absolute Error: 3697.3896857923496\n",
            "Mean Squared Error: 10525378653.538593\n",
            "Root Mean Squared Error: 102593.26807124625\n"
          ],
          "name": "stdout"
        },
        {
          "output_type": "stream",
          "text": [
            "/usr/local/lib/python3.6/dist-packages/ipykernel_launcher.py:14: DataConversionWarning: A column-vector y was passed when a 1d array was expected. Please change the shape of y to (n_samples,), for example using ravel().\n",
            "  \n"
          ],
          "name": "stderr"
        },
        {
          "output_type": "stream",
          "text": [
            "Mean Absolute Error: 4950.529626874212\n",
            "Mean Squared Error: 10361010567.915108\n",
            "Root Mean Squared Error: 101789.04935166212\n"
          ],
          "name": "stdout"
        }
      ]
    },
    {
      "cell_type": "code",
      "metadata": {
        "id": "kF_B0_iO2J6U",
        "colab": {
          "base_uri": "https://localhost:8080/"
        },
        "outputId": "26d50fe1-72a3-44a1-e338-34be2f849e1b"
      },
      "source": [
        "# Artificial Neural Network\n",
        "import keras\n",
        "from keras.layers import Dense\n",
        "ann = keras.models.Sequential([\n",
        "Dense(6, activation=\"relu\",\n",
        "input_shape=X_train.shape[1:]),\n",
        "Dense(6,activation=\"relu\"),\n",
        "Dense(1)\n",
        "])\n",
        "optimizer=keras.optimizers.Adam()\n",
        "loss=keras.losses.MSE\n",
        "ann.compile(optimizer=optimizer,loss=loss,metrics=['mean_absolute_error'])\n",
        "history=ann.fit(X_train,y_train,epochs=100)\n",
        "ann.summary()\n",
        "print_error(X_test,y_test,ann)"
      ],
      "execution_count": null,
      "outputs": [
        {
          "output_type": "stream",
          "text": [
            "Epoch 1/100\n",
            "366/366 [==============================] - 1s 2ms/step - loss: 767617088.0000 - mean_absolute_error: 1712.1450\n",
            "Epoch 2/100\n",
            "366/366 [==============================] - 1s 2ms/step - loss: 767606976.0000 - mean_absolute_error: 1711.9561\n",
            "Epoch 3/100\n",
            "366/366 [==============================] - 1s 2ms/step - loss: 767576000.0000 - mean_absolute_error: 1716.1409\n",
            "Epoch 4/100\n",
            "366/366 [==============================] - 1s 2ms/step - loss: 767516864.0000 - mean_absolute_error: 1728.5724\n",
            "Epoch 5/100\n",
            "366/366 [==============================] - 1s 2ms/step - loss: 767413568.0000 - mean_absolute_error: 1750.4142\n",
            "Epoch 6/100\n",
            "366/366 [==============================] - 1s 2ms/step - loss: 767263744.0000 - mean_absolute_error: 1785.3214\n",
            "Epoch 7/100\n",
            "366/366 [==============================] - 1s 2ms/step - loss: 767091264.0000 - mean_absolute_error: 1827.2375\n",
            "Epoch 8/100\n",
            "366/366 [==============================] - 1s 2ms/step - loss: 766892416.0000 - mean_absolute_error: 1882.1134\n",
            "Epoch 9/100\n",
            "366/366 [==============================] - 1s 2ms/step - loss: 766678592.0000 - mean_absolute_error: 1943.6855\n",
            "Epoch 10/100\n",
            "366/366 [==============================] - 1s 2ms/step - loss: 766444864.0000 - mean_absolute_error: 2001.1398\n",
            "Epoch 11/100\n",
            "366/366 [==============================] - 1s 2ms/step - loss: 766203328.0000 - mean_absolute_error: 2078.1245\n",
            "Epoch 12/100\n",
            "366/366 [==============================] - 1s 2ms/step - loss: 765966976.0000 - mean_absolute_error: 2151.2739\n",
            "Epoch 13/100\n",
            "366/366 [==============================] - 1s 2ms/step - loss: 765731648.0000 - mean_absolute_error: 2220.9683\n",
            "Epoch 14/100\n",
            "366/366 [==============================] - 1s 2ms/step - loss: 765514560.0000 - mean_absolute_error: 2302.3186\n",
            "Epoch 15/100\n",
            "366/366 [==============================] - 1s 2ms/step - loss: 765317376.0000 - mean_absolute_error: 2383.4490\n",
            "Epoch 16/100\n",
            "366/366 [==============================] - 1s 2ms/step - loss: 765141568.0000 - mean_absolute_error: 2458.8242\n",
            "Epoch 17/100\n",
            "366/366 [==============================] - 1s 2ms/step - loss: 764988864.0000 - mean_absolute_error: 2541.5054\n",
            "Epoch 18/100\n",
            "366/366 [==============================] - 1s 2ms/step - loss: 764851072.0000 - mean_absolute_error: 2592.4451\n",
            "Epoch 19/100\n",
            "366/366 [==============================] - 1s 2ms/step - loss: 764729024.0000 - mean_absolute_error: 2666.3022\n",
            "Epoch 20/100\n",
            "366/366 [==============================] - 1s 2ms/step - loss: 764626304.0000 - mean_absolute_error: 2730.4138\n",
            "Epoch 21/100\n",
            "366/366 [==============================] - 1s 2ms/step - loss: 764541696.0000 - mean_absolute_error: 2784.2207\n",
            "Epoch 22/100\n",
            "366/366 [==============================] - 1s 2ms/step - loss: 764466432.0000 - mean_absolute_error: 2827.8501\n",
            "Epoch 23/100\n",
            "366/366 [==============================] - 1s 2ms/step - loss: 764401088.0000 - mean_absolute_error: 2881.7034\n",
            "Epoch 24/100\n",
            "366/366 [==============================] - 1s 2ms/step - loss: 764344448.0000 - mean_absolute_error: 2924.7019\n",
            "Epoch 25/100\n",
            "366/366 [==============================] - 1s 2ms/step - loss: 764300608.0000 - mean_absolute_error: 2979.6284\n",
            "Epoch 26/100\n",
            "366/366 [==============================] - 1s 2ms/step - loss: 764261696.0000 - mean_absolute_error: 3004.3455\n",
            "Epoch 27/100\n",
            "366/366 [==============================] - 1s 2ms/step - loss: 764230464.0000 - mean_absolute_error: 3052.1743\n",
            "Epoch 28/100\n",
            "366/366 [==============================] - 1s 2ms/step - loss: 764206208.0000 - mean_absolute_error: 3071.2751\n",
            "Epoch 29/100\n",
            "366/366 [==============================] - 1s 2ms/step - loss: 764182400.0000 - mean_absolute_error: 3107.6448\n",
            "Epoch 30/100\n",
            "366/366 [==============================] - 1s 2ms/step - loss: 764162112.0000 - mean_absolute_error: 3131.7253\n",
            "Epoch 31/100\n",
            "366/366 [==============================] - 1s 2ms/step - loss: 764144832.0000 - mean_absolute_error: 3154.8579\n",
            "Epoch 32/100\n",
            "366/366 [==============================] - 1s 2ms/step - loss: 764129472.0000 - mean_absolute_error: 3189.9602\n",
            "Epoch 33/100\n",
            "366/366 [==============================] - 1s 2ms/step - loss: 764117696.0000 - mean_absolute_error: 3197.6606\n",
            "Epoch 34/100\n",
            "366/366 [==============================] - 1s 2ms/step - loss: 764110208.0000 - mean_absolute_error: 3210.2017\n",
            "Epoch 35/100\n",
            "366/366 [==============================] - 1s 2ms/step - loss: 764097152.0000 - mean_absolute_error: 3218.0381\n",
            "Epoch 36/100\n",
            "366/366 [==============================] - 1s 2ms/step - loss: 764089856.0000 - mean_absolute_error: 3219.3406\n",
            "Epoch 37/100\n",
            "366/366 [==============================] - 1s 2ms/step - loss: 764079104.0000 - mean_absolute_error: 3240.6851\n",
            "Epoch 38/100\n",
            "366/366 [==============================] - 1s 2ms/step - loss: 764070592.0000 - mean_absolute_error: 3273.5549\n",
            "Epoch 39/100\n",
            "366/366 [==============================] - 1s 2ms/step - loss: 764065600.0000 - mean_absolute_error: 3280.4246\n",
            "Epoch 40/100\n",
            "366/366 [==============================] - 1s 2ms/step - loss: 764059776.0000 - mean_absolute_error: 3289.5300\n",
            "Epoch 41/100\n",
            "366/366 [==============================] - 1s 2ms/step - loss: 764052288.0000 - mean_absolute_error: 3292.0977\n",
            "Epoch 42/100\n",
            "366/366 [==============================] - 1s 2ms/step - loss: 764048384.0000 - mean_absolute_error: 3289.1138\n",
            "Epoch 43/100\n",
            "366/366 [==============================] - 1s 2ms/step - loss: 764038080.0000 - mean_absolute_error: 3307.5310\n",
            "Epoch 44/100\n",
            "366/366 [==============================] - 1s 2ms/step - loss: 764036928.0000 - mean_absolute_error: 3314.1816\n",
            "Epoch 45/100\n",
            "366/366 [==============================] - 1s 2ms/step - loss: 764031744.0000 - mean_absolute_error: 3323.8306\n",
            "Epoch 46/100\n",
            "366/366 [==============================] - 1s 2ms/step - loss: 764026624.0000 - mean_absolute_error: 3326.8760\n",
            "Epoch 47/100\n",
            "366/366 [==============================] - 1s 2ms/step - loss: 764020480.0000 - mean_absolute_error: 3322.8228\n",
            "Epoch 48/100\n",
            "366/366 [==============================] - 1s 2ms/step - loss: 764016960.0000 - mean_absolute_error: 3338.5667\n",
            "Epoch 49/100\n",
            "366/366 [==============================] - 1s 2ms/step - loss: 764013568.0000 - mean_absolute_error: 3331.1575\n",
            "Epoch 50/100\n",
            "366/366 [==============================] - 1s 2ms/step - loss: 764006208.0000 - mean_absolute_error: 3337.1108\n",
            "Epoch 51/100\n",
            "366/366 [==============================] - 1s 2ms/step - loss: 764001728.0000 - mean_absolute_error: 3338.3330\n",
            "Epoch 52/100\n",
            "366/366 [==============================] - 1s 2ms/step - loss: 763996800.0000 - mean_absolute_error: 3336.9744\n",
            "Epoch 53/100\n",
            "366/366 [==============================] - 1s 2ms/step - loss: 763996672.0000 - mean_absolute_error: 3349.0830\n",
            "Epoch 54/100\n",
            "366/366 [==============================] - 1s 2ms/step - loss: 763987392.0000 - mean_absolute_error: 3349.7427\n",
            "Epoch 55/100\n",
            "366/366 [==============================] - 1s 2ms/step - loss: 763989632.0000 - mean_absolute_error: 3360.6252\n",
            "Epoch 56/100\n",
            "366/366 [==============================] - 1s 2ms/step - loss: 763978560.0000 - mean_absolute_error: 3346.5884\n",
            "Epoch 57/100\n",
            "366/366 [==============================] - 1s 2ms/step - loss: 763975040.0000 - mean_absolute_error: 3349.8381\n",
            "Epoch 58/100\n",
            "366/366 [==============================] - 1s 2ms/step - loss: 763969152.0000 - mean_absolute_error: 3372.1411\n",
            "Epoch 59/100\n",
            "366/366 [==============================] - 1s 2ms/step - loss: 763963584.0000 - mean_absolute_error: 3371.1682\n",
            "Epoch 60/100\n",
            "366/366 [==============================] - 1s 2ms/step - loss: 763958848.0000 - mean_absolute_error: 3360.7761\n",
            "Epoch 61/100\n",
            "366/366 [==============================] - 1s 2ms/step - loss: 763955904.0000 - mean_absolute_error: 3368.3704\n",
            "Epoch 62/100\n",
            "366/366 [==============================] - 1s 2ms/step - loss: 763950976.0000 - mean_absolute_error: 3366.4739\n",
            "Epoch 63/100\n",
            "366/366 [==============================] - 1s 2ms/step - loss: 763949376.0000 - mean_absolute_error: 3361.6479\n",
            "Epoch 64/100\n",
            "366/366 [==============================] - 1s 2ms/step - loss: 763940672.0000 - mean_absolute_error: 3370.4504\n",
            "Epoch 65/100\n",
            "366/366 [==============================] - 1s 2ms/step - loss: 763938048.0000 - mean_absolute_error: 3350.7910\n",
            "Epoch 66/100\n",
            "366/366 [==============================] - 1s 2ms/step - loss: 763932736.0000 - mean_absolute_error: 3360.9011\n",
            "Epoch 67/100\n",
            "366/366 [==============================] - 1s 2ms/step - loss: 763928832.0000 - mean_absolute_error: 3378.1365\n",
            "Epoch 68/100\n",
            "366/366 [==============================] - 1s 2ms/step - loss: 763925632.0000 - mean_absolute_error: 3348.7170\n",
            "Epoch 69/100\n",
            "366/366 [==============================] - 1s 2ms/step - loss: 763925696.0000 - mean_absolute_error: 3350.4587\n",
            "Epoch 70/100\n",
            "366/366 [==============================] - 1s 2ms/step - loss: 763916224.0000 - mean_absolute_error: 3376.9170\n",
            "Epoch 71/100\n",
            "366/366 [==============================] - 1s 2ms/step - loss: 763912128.0000 - mean_absolute_error: 3363.8115\n",
            "Epoch 72/100\n",
            "366/366 [==============================] - 1s 2ms/step - loss: 763906048.0000 - mean_absolute_error: 3372.5479\n",
            "Epoch 73/100\n",
            "366/366 [==============================] - 1s 2ms/step - loss: 763900224.0000 - mean_absolute_error: 3378.8123\n",
            "Epoch 74/100\n",
            "366/366 [==============================] - 1s 2ms/step - loss: 763899392.0000 - mean_absolute_error: 3357.2866\n",
            "Epoch 75/100\n",
            "366/366 [==============================] - 1s 2ms/step - loss: 763890368.0000 - mean_absolute_error: 3375.9033\n",
            "Epoch 76/100\n",
            "366/366 [==============================] - 1s 2ms/step - loss: 763884416.0000 - mean_absolute_error: 3382.2749\n",
            "Epoch 77/100\n",
            "366/366 [==============================] - 1s 2ms/step - loss: 763883392.0000 - mean_absolute_error: 3363.6296\n",
            "Epoch 78/100\n",
            "366/366 [==============================] - 1s 2ms/step - loss: 763880576.0000 - mean_absolute_error: 3382.2786\n",
            "Epoch 79/100\n",
            "366/366 [==============================] - 1s 2ms/step - loss: 763874560.0000 - mean_absolute_error: 3361.7986\n",
            "Epoch 80/100\n",
            "366/366 [==============================] - 1s 2ms/step - loss: 763868672.0000 - mean_absolute_error: 3362.9485\n",
            "Epoch 81/100\n",
            "366/366 [==============================] - 1s 2ms/step - loss: 763865472.0000 - mean_absolute_error: 3388.0520\n",
            "Epoch 82/100\n",
            "366/366 [==============================] - 1s 2ms/step - loss: 763857600.0000 - mean_absolute_error: 3365.8940\n",
            "Epoch 83/100\n",
            "366/366 [==============================] - 1s 2ms/step - loss: 763859392.0000 - mean_absolute_error: 3354.9751\n",
            "Epoch 84/100\n",
            "366/366 [==============================] - 1s 2ms/step - loss: 763849536.0000 - mean_absolute_error: 3373.3765\n",
            "Epoch 85/100\n",
            "366/366 [==============================] - 1s 2ms/step - loss: 763842432.0000 - mean_absolute_error: 3372.9727\n",
            "Epoch 86/100\n",
            "366/366 [==============================] - 1s 2ms/step - loss: 763843136.0000 - mean_absolute_error: 3359.1904\n",
            "Epoch 87/100\n",
            "366/366 [==============================] - 1s 2ms/step - loss: 763834624.0000 - mean_absolute_error: 3372.9238\n",
            "Epoch 88/100\n",
            "366/366 [==============================] - 1s 2ms/step - loss: 763832832.0000 - mean_absolute_error: 3391.6587\n",
            "Epoch 89/100\n",
            "366/366 [==============================] - 1s 2ms/step - loss: 763823360.0000 - mean_absolute_error: 3381.4443\n",
            "Epoch 90/100\n",
            "366/366 [==============================] - 1s 2ms/step - loss: 763820160.0000 - mean_absolute_error: 3369.9771\n",
            "Epoch 91/100\n",
            "366/366 [==============================] - 1s 2ms/step - loss: 763813184.0000 - mean_absolute_error: 3368.4783\n",
            "Epoch 92/100\n",
            "366/366 [==============================] - 1s 2ms/step - loss: 763807680.0000 - mean_absolute_error: 3398.0251\n",
            "Epoch 93/100\n",
            "366/366 [==============================] - 1s 2ms/step - loss: 763805120.0000 - mean_absolute_error: 3363.0864\n",
            "Epoch 94/100\n",
            "366/366 [==============================] - 1s 2ms/step - loss: 763798656.0000 - mean_absolute_error: 3388.3765\n",
            "Epoch 95/100\n",
            "366/366 [==============================] - 1s 2ms/step - loss: 763795520.0000 - mean_absolute_error: 3369.4304\n",
            "Epoch 96/100\n",
            "366/366 [==============================] - 1s 2ms/step - loss: 763789312.0000 - mean_absolute_error: 3379.6841\n",
            "Epoch 97/100\n",
            "366/366 [==============================] - 1s 2ms/step - loss: 763785600.0000 - mean_absolute_error: 3373.8008\n",
            "Epoch 98/100\n",
            "366/366 [==============================] - 1s 2ms/step - loss: 763779136.0000 - mean_absolute_error: 3373.8823\n",
            "Epoch 99/100\n",
            "366/366 [==============================] - 1s 2ms/step - loss: 763772864.0000 - mean_absolute_error: 3395.8337\n",
            "Epoch 100/100\n",
            "366/366 [==============================] - 1s 2ms/step - loss: 763769152.0000 - mean_absolute_error: 3384.2869\n",
            "Model: \"sequential_2\"\n",
            "_________________________________________________________________\n",
            "Layer (type)                 Output Shape              Param #   \n",
            "=================================================================\n",
            "dense_6 (Dense)              (None, 6)                 48        \n",
            "_________________________________________________________________\n",
            "dense_7 (Dense)              (None, 6)                 42        \n",
            "_________________________________________________________________\n",
            "dense_8 (Dense)              (None, 1)                 7         \n",
            "=================================================================\n",
            "Total params: 97\n",
            "Trainable params: 97\n",
            "Non-trainable params: 0\n",
            "_________________________________________________________________\n",
            "Mean Absolute Error: 5164.483721581964\n",
            "Mean Squared Error: 10887420395.440224\n",
            "Root Mean Squared Error: 104342.80231736267\n"
          ],
          "name": "stdout"
        }
      ]
    },
    {
      "cell_type": "code",
      "metadata": {
        "id": "sF9AxkNky7rY"
      },
      "source": [
        "#Saving Scikitlearn models\n",
        "import joblib\n",
        "joblib.dump(decision_tree, \"decisiontree_youtubeadview.pkl\")\n",
        "# Saving Keras Artificial Neural Network model\n",
        "ann.save(\"ann_youtubeadview.h5\")"
      ],
      "execution_count": null,
      "outputs": []
    },
    {
      "cell_type": "code",
      "metadata": {
        "id": "OKBAHhgnyPxH"
      },
      "source": [
        ""
      ],
      "execution_count": null,
      "outputs": []
    }
  ]
}